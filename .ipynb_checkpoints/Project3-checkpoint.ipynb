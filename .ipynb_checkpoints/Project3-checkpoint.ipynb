{
 "cells": [
  {
   "cell_type": "markdown",
   "metadata": {},
   "source": [
    "# Udacity Data Analyst Nanodegree"
   ]
  },
  {
   "cell_type": "markdown",
   "metadata": {},
   "source": [
    "# P3: Wrangle OpenStreetMap Data\n",
    "August 28, 2019  \n",
    "Preston Hall"
   ]
  },
  {
   "cell_type": "markdown",
   "metadata": {},
   "source": [
    "## Context\n",
    "This notebook is my project 'Wrangle OpenStreetMap Data' submission. 'Data wrangling' is what the process of collecting and cleaning data is often called. Having completed the project means I am able to:\n",
    "\n",
    "- Assess the quality of the data for validity, accuracy, completeness, consistency and uniformity.\n",
    "- Parse and gather data from an xml file.\n",
    "- Process data from a very large file that can be cleaned programmatically.\n",
    "- Store, query, and aggregate data using SQL.\n",
    "- OpenStreetMap (OSM) is built by a community of mappers that contribute and maintain data about roads, buildings, restaurants, railway stations and much more, all over the world. Since any person can register on OSM and start editing a map, it is only natural that some of the data is not valid, accurate, complete, consistent or uniform."
   ]
  },
  {
   "cell_type": "markdown",
   "metadata": {},
   "source": [
    "## Map Area\n",
    "\n",
    "Beaverton, OR, United States\n",
    "\n",
    "- \n",
    "\n",
    "This map is of where I currently live. This is a fairly new area for me so I’m more interested to see what database querying reveals, and I’d like an opportunity to contribute to its improvement on [OpenStreetMap.org](https://www.openstreetmap.org/search?query=Beaverton%2C%20or#map=12/45.4848/-122.8055).  \n",
    "\n",
    "Since the file size was quite large, I used the [sample.py](https://github.com/Prestonhall31/Data-Wrangling/blob/master/sample.py) script to produce a small sample of the data was generated to make it easier to audit and iterate through the data."
   ]
  },
  {
   "cell_type": "markdown",
   "metadata": {},
   "source": [
    "# Understanding the data\n",
    "\n",
    "I wanted to know what type of data I would be working with. Running the script [mapparser.py](https://github.com/Prestonhall31/Data-Wrangling/blob/master/mapparser.py) creates a dictionary with different elements and the number of occurences within the dataset that I will be working with. \n",
    "\n",
    "\n",
    "```\n",
    "{'bounds': 1,\n",
    " 'member': 11834,\n",
    " 'meta': 1,\n",
    " 'nd': 402993,\n",
    " 'node': 352195,\n",
    " 'note': 1,\n",
    " 'osm': 1,\n",
    " 'relation': 429,\n",
    " 'tag': 223951,\n",
    " 'way': 43527}\n",
    " ```"
   ]
  },
  {
   "cell_type": "markdown",
   "metadata": {},
   "source": [
    "Tags are child elements of nodes, ways and relations, and consist of two attributes, a key 'k' and a value 'v', that describe the meaning of the particular element to which they are attached. The script [tags.py](https://github.com/Prestonhall31/Data-Wrangling/blob/master/tags.py) allows us to have a look at the most common tags in the sample dataset:\n",
    "\n",
    "```\n",
    "{'lower': 128020,\n",
    "'lower_colon': 94441,\n",
    "'other': 1490,\n",
    "'problemchars': 0}\n",
    "\n",
    "```"
   ]
  },
  {
   "cell_type": "markdown",
   "metadata": {},
   "source": [
    "## Problems Encountered in the Map\n",
    "\n"
   ]
  },
  {
   "cell_type": "markdown",
   "metadata": {},
   "source": [
    "## Auditing the data\n",
    "\n",
    "Using regular expressions, street names' endings and beginnings were audited with the [audit.py](https://github.com/Prestonhall31/Data-Wrangling/blob/master/audit.py) script to return any addresses that were not in the expected list. \n",
    "\n",
    "```\n",
    "{'Ave': {'Southwest 193rd Ave'},\n",
    " 'GLN': {'Southwest Malcolm GLN'},\n",
    " 'Gracie': {'SW Gracie'},\n",
    " 'Hwy': {'SW Tualatin Valley Hwy'},\n",
    " 'Rd': {'SW Canyon Rd'},\n",
    " 'St': {'SW 5th St', 'SW Inglewood St', 'SW Parkway St'}}\n",
    " ```"
   ]
  },
  {
   "cell_type": "markdown",
   "metadata": {},
   "source": [
    "## Data Cleaning\n",
    "\n",
    "In this step, by running the [data.py](https://github.com/Prestonhall31/Data-Wrangling/blob/master/data.py) script, the problems encountered in the map were cleaned and data was converted from XML to CSV format. The data is transformed from document format to tabular format which makes it possible to write the data to .csv files. "
   ]
  },
  {
   "cell_type": "markdown",
   "metadata": {},
   "source": [
    "## Importing to database\n",
    "\n",
    "Finally, using the [createdb.py](https://github.com/Prestonhall31/Data-Wrangling/blob/master/createdb.py) file, the cleaned .csv files were imported into a SQL database using a given schema. The osm.db database has five tables: \n",
    "- nodes \n",
    "- nodes_tags\n",
    "- ways\n",
    "- ways_tags\n",
    "- ways_nodes\n",
    "\n",
    "### Inspecting cities\n",
    "I wanted to work within the city of Beaverton. So it is worth checking if there are other cities that are included in the dataset. \n",
    "\n",
    "```sql\n",
    "SELECT tags.value, COUNT(*) as count \n",
    "FROM (SELECT * FROM nodes_tags UNION ALL \n",
    "      SELECT * FROM ways_tags) tags\n",
    "WHERE tags.key = 'city'\n",
    "GROUP BY tags.value\n",
    "ORDER BY count DESC;\n",
    "```\n",
    "```\n",
    "Aloha|8985\n",
    "Beaverton|8323\n",
    "Portland|4280\n",
    "Hillsboro|121\n",
    "Beaverton, OR|13\n",
    "```"
   ]
  },
  {
   "cell_type": "markdown",
   "metadata": {},
   "source": [
    "More than have of the values are not Beaverton, and 13 that are labeled incorrectly as Beaverton, OR. These will need to be removed.\n",
    "\n",
    "```sql\n",
    "DELETE FROM nodes_tags WHERE key = 'city' and value != 'Beaverton';\n",
    "DELETE FROM ways_tags WHERE key = 'city' and value != 'Beaverton';\n",
    "```"
   ]
  },
  {
   "cell_type": "markdown",
   "metadata": {},
   "source": [
    "# Data Overview"
   ]
  },
  {
   "cell_type": "markdown",
   "metadata": {},
   "source": [
    "### File sizes\n",
    "```\n",
    "Beaverton.osm ............... 85.3 MB  \n",
    "osm.db ...................... 47.1 MB  \n",
    "nodes.csv ................... 33.7 MB  \n",
    "nodes_tags.csv .............. 521 KB  \n",
    "ways.csv .................... 9.7 MB  \n",
    "ways_nodes.csv .............. 7 MB  \n",
    "ways_tag.csv ................ 2.9 MB  \n",
    "```"
   ]
  },
  {
   "cell_type": "markdown",
   "metadata": {},
   "source": [
    "### Number of nodes\n",
    "```sql\n",
    "SELECT COUNT(*) FROM nodes;\n",
    "```\n",
    "```\n",
    "352195\n",
    "```\n",
    "\n"
   ]
  },
  {
   "cell_type": "markdown",
   "metadata": {},
   "source": [
    "### Number of ways\n",
    "```sql \n",
    "SELECT COUNT(*) FROM ways;\n",
    "\n",
    "```\n",
    "```\n",
    "43527\n",
    "```\n"
   ]
  },
  {
   "cell_type": "markdown",
   "metadata": {},
   "source": [
    "### Number of unique users \n",
    "```sql \n",
    "SELECT COUNT(DISTINCT(e.uid))          \n",
    "FROM (SELECT uid FROM nodes UNION ALL SELECT uid FROM ways) e;\n",
    "```\n",
    "```\n",
    "245\n",
    "```\n"
   ]
  },
  {
   "cell_type": "markdown",
   "metadata": {},
   "source": [
    "### Top 10 contributing users\n",
    "```sql \n",
    "SELECT e.user, COUNT(*) as num\n",
    "FROM (SELECT user FROM nodes UNION ALL SELECT user FROM ways) e\n",
    "GROUP BY e.user\n",
    "ORDER BY num DESC\n",
    "LIMIT 10;\n",
    "```\n",
    "```\n",
    "Peter Dobratz_pdxbuildings|217663\n",
    "baradam|86399\n",
    "Peter Dobratz|22418\n",
    "Grant Humphries|15438\n",
    "Mele Sax-Barnett|11526\n",
    "Darrell_pdxbuildings|7294\n",
    "cowdog|6158\n",
    "lyzidiamond_imports|4018\n",
    "Paul Johnson|3225\n",
    "Brett_Ham|2944\n",
    "```"
   ]
  },
  {
   "cell_type": "markdown",
   "metadata": {},
   "source": [
    "### Number of users appearing only once (having 1 post)\n",
    "\n",
    "```sql \n",
    "SELECT COUNT(*) \n",
    "FROM\n",
    "    (SELECT e.user, COUNT(*) as num\n",
    "     FROM (SELECT user FROM nodes UNION ALL SELECT user FROM ways) e\n",
    "     GROUP BY e.user\n",
    "     HAVING num=1)  u;\n",
    "```\n",
    "```\n",
    "51\n",
    "```"
   ]
  },
  {
   "cell_type": "markdown",
   "metadata": {},
   "source": [
    "### Biggest religions\n",
    "\n",
    "```sql \n",
    "SELECT ways_tags.value, COUNT(*) as num\n",
    "FROM ways_tags\n",
    "    JOIN (SELECT DISTINCT(id) FROM ways_tags WHERE value='place_of_worship') a\n",
    "    ON ways_tags.id=a.id\n",
    "WHERE ways_tags.key='religion'\n",
    "GROUP BY ways_tags.value\n",
    "ORDER BY num DESC;\n",
    "```\n",
    "```\n",
    "christian|33\n",
    "buddhist|2\n",
    "spiritualist|1\n",
    "```"
   ]
  },
  {
   "cell_type": "markdown",
   "metadata": {},
   "source": [
    "### Christian denominations\n",
    "\n",
    "\n",
    "```sql \n",
    "SELECT b.value, COUNT(*) as num\n",
    "FROM ways_tags\n",
    "    JOIN (SELECT DISTINCT(id) FROM ways_tags WHERE value='place_of_worship') a\n",
    "    ON ways_tags.id=a.id\n",
    "    JOIN (SELECT DISTINCT(id), value FROM ways_tags WHERE key = 'denomination') b\n",
    "    ON a.id = b.id \n",
    "WHERE ways_tags.key='religion' AND ways_tags.value = 'christian'\n",
    "GROUP BY b.value\n",
    "ORDER BY num DESC\n",
    "LIMIT 10;\n",
    "```\n",
    "```\n",
    "baptist|6\n",
    "lutheran|4\n",
    "catholic|3\n",
    "methodist|3\n",
    "free_methodist|1\n",
    "greek_orthodox|1\n",
    "mormon|1\n",
    "presbyterian|1\n",
    "scientist|1\n",
    "unity|1\n",
    "```"
   ]
  },
  {
   "cell_type": "markdown",
   "metadata": {},
   "source": [
    "### Most popular cuisines\n",
    "\n",
    "```sql \n",
    "SELECT nodes_tags.value, COUNT(*) as num\n",
    "FROM nodes_tags \n",
    "    JOIN (SELECT DISTINCT(id) FROM nodes_tags WHERE value='restaurant') i\n",
    "    ON nodes_tags.id=i.id\n",
    "WHERE nodes_tags.key='cuisine'\n",
    "GROUP BY nodes_tags.value\n",
    "ORDER BY num DESC;\n",
    "```\n",
    "```\n",
    "chinese|4\n",
    "italian|4\n",
    "mexican|3\n",
    "pizza|3\n",
    "vietnamese|3\n",
    "korean|2\n",
    "sushi|2\n",
    "thai|2\n",
    "american|1\n",
    "german|1\n",
    "mediterranean|1\n",
    "pasta|1\n",
    "persian|1\n",
    "```"
   ]
  },
  {
   "cell_type": "markdown",
   "metadata": {},
   "source": [
    "## Conclusion\n",
    "This is a great dataset considering it has been edited and contributed by 245 different users for this city alone. It is extremely easy to input incorrect or mistyped information for a dataset this large. Knowing how to audit, clean, and update the data is a very useful skill when working on dataset of this magnitude. Although the dataset is in generally complete, valid, and accurate, its quality regarding consistency can be improved."
   ]
  }
 ],
 "metadata": {
  "kernelspec": {
   "display_name": "Python 3",
   "language": "python",
   "name": "python3"
  },
  "language_info": {
   "codemirror_mode": {
    "name": "ipython",
    "version": 3
   },
   "file_extension": ".py",
   "mimetype": "text/x-python",
   "name": "python",
   "nbconvert_exporter": "python",
   "pygments_lexer": "ipython3",
   "version": "3.7.3"
  }
 },
 "nbformat": 4,
 "nbformat_minor": 2
}
